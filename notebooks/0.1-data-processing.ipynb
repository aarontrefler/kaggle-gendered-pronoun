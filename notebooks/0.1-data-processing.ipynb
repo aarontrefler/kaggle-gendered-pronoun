{
 "cells": [
  {
   "cell_type": "markdown",
   "metadata": {},
   "source": [
    "Notebook to perform data processing, and create interim and clean datasets"
   ]
  },
  {
   "cell_type": "markdown",
   "metadata": {},
   "source": [
    "# Setup"
   ]
  },
  {
   "cell_type": "code",
   "execution_count": 19,
   "metadata": {},
   "outputs": [],
   "source": [
    "import os\n",
    "import sys\n",
    "import time\n",
    "\n",
    "import numpy as np\n",
    "import pandas as pd\n",
    "\n",
    "from sklearn.impute import SimpleImputer"
   ]
  },
  {
   "cell_type": "code",
   "execution_count": 20,
   "metadata": {},
   "outputs": [],
   "source": [
    "proj_path = \"/Users/aarontrefler_temp2/Documents/My_Documents/Kaggle/kaggle-gendered-pronoun/\"\n",
    "sys.path.insert(0, proj_path)"
   ]
  },
  {
   "cell_type": "code",
   "execution_count": 3,
   "metadata": {},
   "outputs": [
    {
     "name": "stderr",
     "output_type": "stream",
     "text": [
      "/Users/aarontrefler_temp2/anaconda/envs/py35/lib/python3.5/importlib/_bootstrap.py:222: RuntimeWarning: compiletime version 3.6 of module 'tensorflow.python.framework.fast_tensor_util' does not match runtime version 3.5\n",
      "  return f(*args, **kwds)\n"
     ]
    }
   ],
   "source": [
    "import bert.modeling\n",
    "import bert.extract_features\n",
    "import bert.tokenization\n",
    "\n",
    "import src.utils as utils\n",
    "import src.data.data_utils as data_utils\n",
    "import src.models.bert_model_utils as bert_model_utils"
   ]
  },
  {
   "cell_type": "code",
   "execution_count": 4,
   "metadata": {},
   "outputs": [],
   "source": [
    "%reload_ext autoreload\n",
    "%autoreload 2\n",
    "\n",
    "pd.options.display.max_columns = 20"
   ]
  },
  {
   "cell_type": "code",
   "execution_count": 5,
   "metadata": {},
   "outputs": [],
   "source": [
    "bert_dir = proj_path + \"bert/\"\n",
    "data_raw_dir = proj_path + \"data/raw/\"\n",
    "data_interim_dir = proj_path + \"data/interim/\"\n",
    "data_clean_dir = proj_path + \"data/clean/\""
   ]
  },
  {
   "cell_type": "code",
   "execution_count": 26,
   "metadata": {},
   "outputs": [
    {
     "name": "stdout",
     "output_type": "stream",
     "text": [
      "0\n"
     ]
    }
   ],
   "source": [
    "# Copy and rename stage 2 data\n",
    "cmd = \"cp {src_path}test_stage_2.tsv {dest_path}gap-kaggleStage2.tsv\".format(\n",
    "    src_path = data_raw_dir + \"gendered-pronoun-resolution/\",\n",
    "    dest_path = data_raw_dir\n",
    ")\n",
    "val = os.system(cmd)\n",
    "print(val)"
   ]
  },
  {
   "cell_type": "markdown",
   "metadata": {},
   "source": [
    "# Read Raw Data"
   ]
  },
  {
   "cell_type": "code",
   "execution_count": 7,
   "metadata": {},
   "outputs": [],
   "source": [
    "df_train = pd.read_csv(data_raw_dir + \"gap-test.tsv\", sep='\\t')\n",
    "df_valid = pd.read_csv(data_raw_dir + \"gap-validation.tsv\", sep='\\t')\n",
    "df_test = pd.read_csv(data_raw_dir + \"gap-development.tsv\", sep='\\t')\n",
    "df_testS2 = pd.read_csv(data_raw_dir + \"gap-kaggleStage2\", sep='\\t')"
   ]
  },
  {
   "cell_type": "markdown",
   "metadata": {},
   "source": [
    "# Create Interim Data"
   ]
  },
  {
   "cell_type": "code",
   "execution_count": 10,
   "metadata": {},
   "outputs": [
    {
     "name": "stdout",
     "output_type": "stream",
     "text": [
      "python /Users/aarontrefler_temp2/Documents/My_Documents/Kaggle/kaggle-gendered-pronoun/bert/extract_features.py       --input_file=/Users/aarontrefler_temp2/Documents/My_Documents/Kaggle/kaggle-gendered-pronoun/data/interim/bert_input_train.txt       --output_file=/Users/aarontrefler_temp2/Documents/My_Documents/Kaggle/kaggle-gendered-pronoun/data/interim/bert_output_train.json       --vocab_file=/Users/aarontrefler_temp2/Documents/My_Documents/Kaggle/kaggle-gendered-pronoun/models/uncased_L-12_H-768_A-12/vocab.txt       --bert_config_file=/Users/aarontrefler_temp2/Documents/My_Documents/Kaggle/kaggle-gendered-pronoun/models/uncased_L-12_H-768_A-12/bert_config.json       --init_checkpoint=/Users/aarontrefler_temp2/Documents/My_Documents/Kaggle/kaggle-gendered-pronoun/models/uncased_L-12_H-768_A-12/bert_model.ckpt       --layers=-1       --max_seq_length=256       --batch_size=8\n",
      "python /Users/aarontrefler_temp2/Documents/My_Documents/Kaggle/kaggle-gendered-pronoun/bert/extract_features.py       --input_file=/Users/aarontrefler_temp2/Documents/My_Documents/Kaggle/kaggle-gendered-pronoun/data/interim/bert_input_valid.txt       --output_file=/Users/aarontrefler_temp2/Documents/My_Documents/Kaggle/kaggle-gendered-pronoun/data/interim/bert_output_valid.json       --vocab_file=/Users/aarontrefler_temp2/Documents/My_Documents/Kaggle/kaggle-gendered-pronoun/models/uncased_L-12_H-768_A-12/vocab.txt       --bert_config_file=/Users/aarontrefler_temp2/Documents/My_Documents/Kaggle/kaggle-gendered-pronoun/models/uncased_L-12_H-768_A-12/bert_config.json       --init_checkpoint=/Users/aarontrefler_temp2/Documents/My_Documents/Kaggle/kaggle-gendered-pronoun/models/uncased_L-12_H-768_A-12/bert_model.ckpt       --layers=-1       --max_seq_length=256       --batch_size=8\n",
      "python /Users/aarontrefler_temp2/Documents/My_Documents/Kaggle/kaggle-gendered-pronoun/bert/extract_features.py       --input_file=/Users/aarontrefler_temp2/Documents/My_Documents/Kaggle/kaggle-gendered-pronoun/data/interim/bert_input_test.txt       --output_file=/Users/aarontrefler_temp2/Documents/My_Documents/Kaggle/kaggle-gendered-pronoun/data/interim/bert_output_test.json       --vocab_file=/Users/aarontrefler_temp2/Documents/My_Documents/Kaggle/kaggle-gendered-pronoun/models/uncased_L-12_H-768_A-12/vocab.txt       --bert_config_file=/Users/aarontrefler_temp2/Documents/My_Documents/Kaggle/kaggle-gendered-pronoun/models/uncased_L-12_H-768_A-12/bert_config.json       --init_checkpoint=/Users/aarontrefler_temp2/Documents/My_Documents/Kaggle/kaggle-gendered-pronoun/models/uncased_L-12_H-768_A-12/bert_model.ckpt       --layers=-1       --max_seq_length=256       --batch_size=8\n",
      "python /Users/aarontrefler_temp2/Documents/My_Documents/Kaggle/kaggle-gendered-pronoun/bert/extract_features.py       --input_file=/Users/aarontrefler_temp2/Documents/My_Documents/Kaggle/kaggle-gendered-pronoun/data/interim/bert_input_testS2.txt       --output_file=/Users/aarontrefler_temp2/Documents/My_Documents/Kaggle/kaggle-gendered-pronoun/data/interim/bert_output_testS2.json       --vocab_file=/Users/aarontrefler_temp2/Documents/My_Documents/Kaggle/kaggle-gendered-pronoun/models/uncased_L-12_H-768_A-12/vocab.txt       --bert_config_file=/Users/aarontrefler_temp2/Documents/My_Documents/Kaggle/kaggle-gendered-pronoun/models/uncased_L-12_H-768_A-12/bert_config.json       --init_checkpoint=/Users/aarontrefler_temp2/Documents/My_Documents/Kaggle/kaggle-gendered-pronoun/models/uncased_L-12_H-768_A-12/bert_model.ckpt       --layers=-1       --max_seq_length=256       --batch_size=8\n"
     ]
    }
   ],
   "source": [
    "# Create BERT input files\n",
    "df_train.Text.to_csv(data_interim_dir + \"bert_input_train.txt\", index = False, header = False)\n",
    "df_valid.Text.to_csv(data_interim_dir + \"bert_input_valid.txt\", index = False, header = False)\n",
    "df_test.Text.to_csv(data_interim_dir + \"bert_input_test.txt\", index = False, header = False)\n",
    "df_testS2.Text.to_csv(data_interim_dir + \"bert_input_testS2.txt\", index = False, header = False)\n",
    "\n",
    "# Create BERT feature extraction commands\n",
    "train_bert_extract_features_cmd = bert_model_utils.create_bert_extract_features_cmd(df_train, \"train\")\n",
    "valid_bert_extract_features_cmd = bert_model_utils.create_bert_extract_features_cmd(df_valid, \"valid\")\n",
    "test_bert_extract_features_cmd = bert_model_utils.create_bert_extract_features_cmd(df_test, \"test\")\n",
    "testS2_bert_extract_features_cmd = bert_model_utils.create_bert_extract_features_cmd(df_testS2, \"testS2\")\n",
    "\n",
    "# Execute commands in terminal to create BERT output files\n",
    "print(train_bert_extract_features_cmd)\n",
    "print(valid_bert_extract_features_cmd)\n",
    "print(test_bert_extract_features_cmd)\n",
    "print(testS2_bert_extract_features_cmd)"
   ]
  },
  {
   "cell_type": "code",
   "execution_count": 153,
   "metadata": {},
   "outputs": [
    {
     "name": "stdout",
     "output_type": "stream",
     "text": [
      "Started at  Tue Apr  2 09:58:59 2019\n",
      "Finished at  Tue Apr  2 10:04:39 2019\n"
     ]
    }
   ],
   "source": [
    "# Read in BERT output files\n",
    "print(\"Started at \", time.ctime())\n",
    "train_bert_features = bert_model_utils.read_in_bert_features(dataset_name=\"train\")\n",
    "valid_bert_features = bert_model_utils.read_in_bert_features(dataset_name=\"valid\")\n",
    "test_bert_features = bert_model_utils.read_in_bert_features(dataset_name=\"test\")\n",
    "testS2_bert_features = bert_model_utils.read_in_bert_features(dataset_name=\"testS2\", chunksize=1000)\n",
    "print(\"Finished at \", time.ctime())"
   ]
  },
  {
   "cell_type": "code",
   "execution_count": 154,
   "metadata": {},
   "outputs": [
    {
     "name": "stdout",
     "output_type": "stream",
     "text": [
      "Started at  Tue Apr  2 10:10:16 2019\n"
     ]
    },
    {
     "name": "stderr",
     "output_type": "stream",
     "text": [
      "/Users/aarontrefler_temp2/Documents/My_Documents/Kaggle/kaggle-gendered-pronoun/src/models/bert_model_utils.py:90: RuntimeWarning: invalid value encountered in true_divide\n",
      "  emb_B /= cnt_B\n",
      "/Users/aarontrefler_temp2/Documents/My_Documents/Kaggle/kaggle-gendered-pronoun/src/models/bert_model_utils.py:89: RuntimeWarning: invalid value encountered in true_divide\n",
      "  emb_A /= cnt_A\n"
     ]
    },
    {
     "name": "stdout",
     "output_type": "stream",
     "text": [
      "Finished at  Tue Apr  2 10:10:42 2019\n"
     ]
    }
   ],
   "source": [
    "# Create word embedding dataframes\n",
    "print(\"Started at \", time.ctime())\n",
    "df_train_emb = bert_model_utils.create_bert_word_embedding_df(\n",
    "    df=df_train, bert_output=train_bert_features, dataset_name=\"train\")\n",
    "df_valid_emb = bert_model_utils.create_bert_word_embedding_df(\n",
    "    df=df_valid, bert_output=valid_bert_features, dataset_name=\"valid\")\n",
    "df_test_emb =bert_model_utils.create_bert_word_embedding_df(\n",
    "    df=df_test, bert_output=test_bert_features, dataset_name=\"test\")\n",
    "df_testS2_emb =bert_model_utils.create_bert_word_embedding_df(\n",
    "    df=df_testS2, bert_output=testS2_bert_features, dataset_name=\"testS2\", unlabled=True)\n",
    "print(\"Finished at \", time.ctime())"
   ]
  },
  {
   "cell_type": "code",
   "execution_count": 156,
   "metadata": {},
   "outputs": [],
   "source": [
    "# Save word embedding dataframes as json files\n",
    "df_train_emb.to_json(data_interim_dir + \"bert_contextual_embeddings_gap_train.json\", orient = 'columns')\n",
    "df_valid_emb.to_json(data_interim_dir + \"bert_contextual_embeddings_gap_valid.json\", orient = 'columns')\n",
    "df_test_emb.to_json(data_interim_dir + \"bert_contextual_embeddings_gap_test.json\", orient = 'columns')\n",
    "df_testS2_emb.to_json(data_interim_dir + \"bert_contextual_embeddings_gap_testS2.json\", orient = 'columns')"
   ]
  },
  {
   "cell_type": "markdown",
   "metadata": {},
   "source": [
    "# Create Clean Data"
   ]
  },
  {
   "cell_type": "code",
   "execution_count": 59,
   "metadata": {},
   "outputs": [],
   "source": [
    "# Read in and parse word embedding json files\n",
    "X_train, Y_train = bert_model_utils.parse_json(\n",
    "    pd.read_json(data_interim_dir + \"bert_contextual_embeddings_gap_train.json\"))\n",
    "X_valid, Y_valid = bert_model_utils.parse_json(\n",
    "    pd.read_json(data_interim_dir + \"bert_contextual_embeddings_gap_valid.json\"))\n",
    "X_test, Y_test = bert_model_utils.parse_json(\n",
    "    pd.read_json(data_interim_dir + \"bert_contextual_embeddings_gap_test.json\"))\n",
    "X_testS2, Y_testS2 = bert_model_utils.parse_json(\n",
    "    pd.read_json(data_interim_dir + \"bert_contextual_embeddings_gap_testS2.json\"))"
   ]
  },
  {
   "cell_type": "code",
   "execution_count": 60,
   "metadata": {},
   "outputs": [],
   "source": [
    "# Fill-in missing values\n",
    "imp = SimpleImputer(missing_values=np.nan, strategy='mean')\n",
    "imp.fit(X_train)\n",
    "\n",
    "X_train_fill = imp.transform(X_train)\n",
    "X_valid_fill = imp.transform(X_valid)\n",
    "X_test_fill = imp.transform(X_test)\n",
    "X_testS2_fill = imp.transform(X_testS2)"
   ]
  },
  {
   "cell_type": "code",
   "execution_count": null,
   "metadata": {},
   "outputs": [],
   "source": [
    "# Save clean features\n",
    "np.savetxt(data_clean_dir + \"X_train.csv\", X_train_fill, delimiter=\",\")\n",
    "np.savetxt(data_clean_dir + \"X_valid.csv\", X_valid_fill, delimiter=\",\")\n",
    "np.savetxt(data_clean_dir + \"X_test.csv\", X_test_fill, delimiter=\",\")\n",
    "np.savetxt(data_clean_dir + \"X_testS2.csv\", X_testS2_fill, delimiter=\",\")\n",
    "\n",
    "# Save clean labels\n",
    "np.savetxt(data_clean_dir + \"Y_train.csv\", Y_train, delimiter=\",\")\n",
    "np.savetxt(data_clean_dir + \"Y_valid.csv\", Y_valid, delimiter=\",\")\n",
    "np.savetxt(data_clean_dir + \"Y_test.csv\", Y_test, delimiter=\",\")\n",
    "np.savetxt(data_clean_dir + \"Y_testS2.csv\", Y_testS2, delimiter=\",\")"
   ]
  },
  {
   "cell_type": "code",
   "execution_count": null,
   "metadata": {},
   "outputs": [],
   "source": []
  }
 ],
 "metadata": {
  "kernelspec": {
   "display_name": "Python 3",
   "language": "python",
   "name": "python3"
  },
  "language_info": {
   "codemirror_mode": {
    "name": "ipython",
    "version": 3
   },
   "file_extension": ".py",
   "mimetype": "text/x-python",
   "name": "python",
   "nbconvert_exporter": "python",
   "pygments_lexer": "ipython3",
   "version": "3.5.4"
  },
  "toc": {
   "colors": {
    "hover_highlight": "#DAA520",
    "navigate_num": "#000000",
    "navigate_text": "#333333",
    "running_highlight": "#FF0000",
    "selected_highlight": "#FFD700",
    "sidebar_border": "#EEEEEE",
    "wrapper_background": "#FFFFFF"
   },
   "moveMenuLeft": true,
   "nav_menu": {
    "height": "12px",
    "width": "252px"
   },
   "navigate_menu": true,
   "number_sections": true,
   "sideBar": true,
   "threshold": 4,
   "toc_cell": false,
   "toc_section_display": "block",
   "toc_window_display": false,
   "widenNotebook": false
  }
 },
 "nbformat": 4,
 "nbformat_minor": 2
}
