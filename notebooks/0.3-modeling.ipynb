{
 "cells": [
  {
   "cell_type": "markdown",
   "metadata": {},
   "source": [
    "Notebook to perform predictive modeling"
   ]
  },
  {
   "cell_type": "markdown",
   "metadata": {},
   "source": [
    "# Setup"
   ]
  },
  {
   "cell_type": "code",
   "execution_count": 4,
   "metadata": {},
   "outputs": [
    {
     "name": "stderr",
     "output_type": "stream",
     "text": [
      "/Users/aarontrefler_temp2/anaconda/envs/py35/lib/python3.5/importlib/_bootstrap.py:222: RuntimeWarning: compiletime version 3.6 of module 'tensorflow.python.framework.fast_tensor_util' does not match runtime version 3.5\n",
      "  return f(*args, **kwds)\n",
      "Using TensorFlow backend.\n"
     ]
    }
   ],
   "source": [
    "import sys\n",
    "import time\n",
    "\n",
    "import numpy as np\n",
    "import pandas as pd\n",
    "import tensorflow as tf\n",
    "\n",
    "from keras import backend, models, layers, initializers, regularizers, constraints, optimizers\n",
    "from keras import callbacks as kc\n",
    "from keras import optimizers as ko\n",
    "from sklearn.metrics import log_loss\n",
    "from sklearn.model_selection import cross_val_score, KFold, train_test_split"
   ]
  },
  {
   "cell_type": "code",
   "execution_count": 5,
   "metadata": {},
   "outputs": [],
   "source": [
    "proj_path = \"/Users/aarontrefler_temp2/Documents/My_Documents/Kaggle/kaggle-gendered-pronoun/\"\n",
    "sys.path.insert(0, proj_path)"
   ]
  },
  {
   "cell_type": "code",
   "execution_count": 6,
   "metadata": {},
   "outputs": [],
   "source": [
    "import src.utils as utils\n",
    "import src.data.data_utils as data_utils\n",
    "import src.models.bert_model_utils as bert_model_utils\n",
    "import src.models.keras_model_utils as keras_model_utils"
   ]
  },
  {
   "cell_type": "code",
   "execution_count": 7,
   "metadata": {},
   "outputs": [],
   "source": [
    "%reload_ext autoreload\n",
    "%autoreload 2\n",
    "%matplotlib inline\n",
    "\n",
    "pd.options.display.max_columns = 20"
   ]
  },
  {
   "cell_type": "code",
   "execution_count": 20,
   "metadata": {},
   "outputs": [],
   "source": [
    "data_raw_dir = proj_path + \"data/raw/\"\n",
    "data_clean_dir = proj_path + \"data/clean/\"\n",
    "models_dir = proj_path + \"models/\""
   ]
  },
  {
   "cell_type": "markdown",
   "metadata": {},
   "source": [
    "# Read in Features and Labels"
   ]
  },
  {
   "cell_type": "code",
   "execution_count": 14,
   "metadata": {},
   "outputs": [],
   "source": [
    "X_train = np.genfromtxt(data_clean_dir + \"X_train.csv\", delimiter=\",\")\n",
    "X_valid = np.genfromtxt(data_clean_dir + \"X_valid.csv\", delimiter=\",\")\n",
    "X_test = np.genfromtxt(data_clean_dir + \"X_test.csv\", delimiter=\",\")\n",
    "\n",
    "Y_train = np.genfromtxt(data_clean_dir + \"Y_train.csv\", delimiter=\",\")\n",
    "Y_valid = np.genfromtxt(data_clean_dir + \"Y_valid.csv\", delimiter=\",\")\n",
    "Y_test = np.genfromtxt(data_clean_dir + \"Y_test.csv\", delimiter=\",\")"
   ]
  },
  {
   "cell_type": "markdown",
   "metadata": {},
   "source": [
    "# Neural Network Modeling"
   ]
  },
  {
   "cell_type": "code",
   "execution_count": 16,
   "metadata": {},
   "outputs": [],
   "source": [
    "dense_layer_sizes = [37]\n",
    "dropout_rate = 0.6\n",
    "learning_rate = 0.001\n",
    "n_fold = 5\n",
    "batch_size = 32\n",
    "epochs = 1000\n",
    "patience = 100\n",
    "# n_test = 100\n",
    "lambd = 0.1 # L2 regularization"
   ]
  },
  {
   "cell_type": "code",
   "execution_count": 17,
   "metadata": {},
   "outputs": [],
   "source": [
    "# Will train on data from the gap-test and gap-validation files, in total 2454 rows\n",
    "X = np.concatenate((X_train, X_valid), axis = 0)\n",
    "Y = np.concatenate((Y_train, Y_valid), axis = 0)\n",
    "\n",
    "# Will predict probabilities for data from the gap-development file; initializing the predictions\n",
    "prediction = np.zeros((len(X_test),3)) # testing predictions"
   ]
  },
  {
   "cell_type": "code",
   "execution_count": 18,
   "metadata": {},
   "outputs": [
    {
     "name": "stdout",
     "output_type": "stream",
     "text": [
      "Fold 0 started at Mon Apr  1 11:17:33 2019\n"
     ]
    },
    {
     "name": "stderr",
     "output_type": "stream",
     "text": [
      "/Users/aarontrefler_temp2/Documents/My_Documents/Kaggle/kaggle-gendered-pronoun/src/models/keras_model_utils.py:28: UserWarning: Update your `Model` call to the Keras 2 API: `Model(outputs=Tensor(\"ac..., name=\"classif_model\", inputs=Tensor(\"in...)`\n",
      "  model = models.Model(input = X_input, output = X, name = \"classif_model\")\n"
     ]
    },
    {
     "name": "stdout",
     "output_type": "stream",
     "text": [
      "Fold 1 started at Mon Apr  1 11:17:49 2019\n"
     ]
    },
    {
     "name": "stderr",
     "output_type": "stream",
     "text": [
      "/Users/aarontrefler_temp2/Documents/My_Documents/Kaggle/kaggle-gendered-pronoun/src/models/keras_model_utils.py:28: UserWarning: Update your `Model` call to the Keras 2 API: `Model(outputs=Tensor(\"ac..., name=\"classif_model\", inputs=Tensor(\"in...)`\n",
      "  model = models.Model(input = X_input, output = X, name = \"classif_model\")\n"
     ]
    },
    {
     "name": "stdout",
     "output_type": "stream",
     "text": [
      "Fold 2 started at Mon Apr  1 11:18:06 2019\n"
     ]
    },
    {
     "name": "stderr",
     "output_type": "stream",
     "text": [
      "/Users/aarontrefler_temp2/Documents/My_Documents/Kaggle/kaggle-gendered-pronoun/src/models/keras_model_utils.py:28: UserWarning: Update your `Model` call to the Keras 2 API: `Model(outputs=Tensor(\"ac..., name=\"classif_model\", inputs=Tensor(\"in...)`\n",
      "  model = models.Model(input = X_input, output = X, name = \"classif_model\")\n"
     ]
    },
    {
     "name": "stdout",
     "output_type": "stream",
     "text": [
      "Fold 3 started at Mon Apr  1 11:18:23 2019\n"
     ]
    },
    {
     "name": "stderr",
     "output_type": "stream",
     "text": [
      "/Users/aarontrefler_temp2/Documents/My_Documents/Kaggle/kaggle-gendered-pronoun/src/models/keras_model_utils.py:28: UserWarning: Update your `Model` call to the Keras 2 API: `Model(outputs=Tensor(\"ac..., name=\"classif_model\", inputs=Tensor(\"in...)`\n",
      "  model = models.Model(input = X_input, output = X, name = \"classif_model\")\n"
     ]
    },
    {
     "name": "stdout",
     "output_type": "stream",
     "text": [
      "Fold 4 started at Mon Apr  1 11:18:41 2019\n"
     ]
    },
    {
     "name": "stderr",
     "output_type": "stream",
     "text": [
      "/Users/aarontrefler_temp2/Documents/My_Documents/Kaggle/kaggle-gendered-pronoun/src/models/keras_model_utils.py:28: UserWarning: Update your `Model` call to the Keras 2 API: `Model(outputs=Tensor(\"ac..., name=\"classif_model\", inputs=Tensor(\"in...)`\n",
      "  model = models.Model(input = X_input, output = X, name = \"classif_model\")\n"
     ]
    },
    {
     "name": "stdout",
     "output_type": "stream",
     "text": [
      "CV mean score: 0.5793, std: 0.0367.\n",
      "[0.5259727581654051, 0.5461000168663801, 0.620206169506901, 0.5954061520464676, 0.6088200959652587]\n",
      "Test score: 0.5457620984473438\n"
     ]
    }
   ],
   "source": [
    "# Training and cross-validation\n",
    "folds = KFold(n_splits=n_fold, shuffle=True, random_state=3)\n",
    "scores = []\n",
    "for fold_n, (train_index, valid_index) in enumerate(folds.split(X)):\n",
    "    # split training and validation data\n",
    "    print('Fold', fold_n, 'started at', time.ctime())\n",
    "    X_tr, X_val = X[train_index], X[valid_index]\n",
    "    Y_tr, Y_val = Y[train_index], Y[valid_index]\n",
    "\n",
    "    # Define the model, re-initializing for each fold\n",
    "    classif_model = keras_model_utils.build_mlp_model(\n",
    "        [X.shape[1]], dense_layer_sizes=dense_layer_sizes, dropout_rate=dropout_rate, lambd=lambd)\n",
    "    classif_model.compile(optimizer = optimizers.Adam(lr = learning_rate), loss = \"categorical_crossentropy\")\n",
    "    callbacks = [kc.EarlyStopping(monitor='val_loss', patience=patience, restore_best_weights = True)]\n",
    "\n",
    "    # train the model\n",
    "    classif_model.fit(\n",
    "        x = X_tr, y = Y_tr, \n",
    "        epochs = epochs, batch_size = batch_size, callbacks = callbacks, validation_data = (X_val, Y_val), verbose = 0\n",
    "    )\n",
    "\n",
    "    # make predictions on validation and test data\n",
    "    pred_valid = classif_model.predict(x = X_val, verbose = 0)\n",
    "    pred = classif_model.predict(x = X_test, verbose = 0)\n",
    "\n",
    "    # oof[valid_index] = pred_valid.reshape(-1,)\n",
    "    scores.append(log_loss(Y_val, pred_valid))\n",
    "    prediction += pred\n",
    "    prediction /= n_fold\n",
    "\n",
    "# Print CV scores, as well as score on the test data\n",
    "print('CV mean score: {0:.4f}, std: {1:.4f}.'.format(np.mean(scores), np.std(scores)))\n",
    "print(scores)\n",
    "print(\"Test score:\", log_loss(Y_test,prediction))"
   ]
  },
  {
   "cell_type": "code",
   "execution_count": 22,
   "metadata": {},
   "outputs": [],
   "source": [
    "# Write the prediction to file for submission\n",
    "submission = pd.read_csv(data_raw_dir + \"gendered-pronoun-resolution/sample_submission_stage_1.csv\", index_col = \"ID\")\n",
    "submission[\"A\"] = prediction[:,0]\n",
    "submission[\"B\"] = prediction[:,1]\n",
    "submission[\"NEITHER\"] = prediction[:,2]\n",
    "submission.to_csv(models_dir + \"submission_bert.csv\")"
   ]
  },
  {
   "cell_type": "code",
   "execution_count": null,
   "metadata": {},
   "outputs": [],
   "source": []
  }
 ],
 "metadata": {
  "kernelspec": {
   "display_name": "Python 3",
   "language": "python",
   "name": "python3"
  },
  "language_info": {
   "codemirror_mode": {
    "name": "ipython",
    "version": 3
   },
   "file_extension": ".py",
   "mimetype": "text/x-python",
   "name": "python",
   "nbconvert_exporter": "python",
   "pygments_lexer": "ipython3",
   "version": "3.5.4"
  },
  "toc": {
   "colors": {
    "hover_highlight": "#DAA520",
    "navigate_num": "#000000",
    "navigate_text": "#333333",
    "running_highlight": "#FF0000",
    "selected_highlight": "#FFD700",
    "sidebar_border": "#EEEEEE",
    "wrapper_background": "#FFFFFF"
   },
   "moveMenuLeft": true,
   "nav_menu": {
    "height": "12px",
    "width": "252px"
   },
   "navigate_menu": true,
   "number_sections": true,
   "sideBar": true,
   "threshold": 4,
   "toc_cell": false,
   "toc_section_display": "block",
   "toc_window_display": false,
   "widenNotebook": false
  }
 },
 "nbformat": 4,
 "nbformat_minor": 2
}
